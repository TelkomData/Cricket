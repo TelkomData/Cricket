{
 "cells": [
  {
   "cell_type": "code",
   "execution_count": 1,
   "metadata": {
    "collapsed": false
   },
   "outputs": [],
   "source": [
    "import glob\n",
    "import cricket \n",
    "import pandas as pd"
   ]
  },
  {
   "cell_type": "code",
   "execution_count": 78,
   "metadata": {
    "collapsed": false
   },
   "outputs": [
    {
     "name": "stdout",
     "output_type": "stream",
     "text": [
      "reading in match id \\335982\n"
     ]
    }
   ],
   "source": [
    "reload(cricket)\n",
    "\n",
    "output = pd.DataFrame(columns=['overs', 'runs','wickets', 'total'])\n",
    "\n",
    "for file_name in glob.glob('IPL/*.yaml')[0:1]:\n",
    "    match_id = file_name.strip('IPL/').strip('.yaml')\n",
    "    print ('reading in match id {:s}'.format(match_id))\n",
    "    curr_match = cricket.read_match(match_id)\n",
    "    \n",
    "    ball_by_ball = [curr_match[1].score_at_time(b['over']) for b in curr_match[1].balls()]\n",
    "    \n",
    "    total_score = sum(curr_match[1].runs())\n",
    "    wicket_score = pd.DataFrame(ball_by_ball, columns=['overs', 'runs','wickets']).sort_values('overs')\n",
    "    wicket_score['total'] = total_score\n",
    "    output = output.append(wicket_score)\n",
    "\n",
    "output['difference'] = output['total'] - output['runs']"
   ]
  },
  {
   "cell_type": "code",
   "execution_count": 79,
   "metadata": {
    "collapsed": false
   },
   "outputs": [
    {
     "data": {
      "text/plain": [
       "(4.0, 41, 0)"
      ]
     },
     "execution_count": 79,
     "metadata": {},
     "output_type": "execute_result"
    }
   ],
   "source": [
    "curr_match.bowl_fig('P Kumar')"
   ]
  },
  {
   "cell_type": "code",
   "execution_count": 80,
   "metadata": {
    "collapsed": false
   },
   "outputs": [],
   "source": [
    "curr_match.bowl_fig('BB McCullum')"
   ]
  },
  {
   "cell_type": "code",
   "execution_count": 81,
   "metadata": {
    "collapsed": false
   },
   "outputs": [
    {
     "data": {
      "text/plain": [
       "(158, 73, 0)"
      ]
     },
     "execution_count": 81,
     "metadata": {},
     "output_type": "execute_result"
    }
   ],
   "source": [
    "curr_match.bat_fig('BB McCullum')"
   ]
  },
  {
   "cell_type": "code",
   "execution_count": 82,
   "metadata": {
    "collapsed": true
   },
   "outputs": [],
   "source": [
    "curr_match.bat_fig('P Kumar')"
   ]
  },
  {
   "cell_type": "code",
   "execution_count": 83,
   "metadata": {
    "collapsed": false
   },
   "outputs": [
    {
     "data": {
      "text/html": [
       "<div>\n",
       "<table border=\"1\" class=\"dataframe\">\n",
       "  <thead>\n",
       "    <tr style=\"text-align: right;\">\n",
       "      <th></th>\n",
       "      <th>Batsmen</th>\n",
       "      <th>Runs</th>\n",
       "      <th>Balls Faced</th>\n",
       "      <th>Out</th>\n",
       "      <th>Strike_Rate</th>\n",
       "    </tr>\n",
       "  </thead>\n",
       "  <tbody>\n",
       "    <tr>\n",
       "      <th>0</th>\n",
       "      <td>SC Ganguly</td>\n",
       "      <td>10</td>\n",
       "      <td>12</td>\n",
       "      <td>1</td>\n",
       "      <td>83.333333</td>\n",
       "    </tr>\n",
       "    <tr>\n",
       "      <th>1</th>\n",
       "      <td>BB McCullum</td>\n",
       "      <td>158</td>\n",
       "      <td>73</td>\n",
       "      <td>0</td>\n",
       "      <td>216.438356</td>\n",
       "    </tr>\n",
       "    <tr>\n",
       "      <th>2</th>\n",
       "      <td>RT Ponting</td>\n",
       "      <td>20</td>\n",
       "      <td>20</td>\n",
       "      <td>1</td>\n",
       "      <td>100.000000</td>\n",
       "    </tr>\n",
       "    <tr>\n",
       "      <th>3</th>\n",
       "      <td>DJ Hussey</td>\n",
       "      <td>12</td>\n",
       "      <td>12</td>\n",
       "      <td>1</td>\n",
       "      <td>100.000000</td>\n",
       "    </tr>\n",
       "    <tr>\n",
       "      <th>4</th>\n",
       "      <td>Mohammad Hafeez</td>\n",
       "      <td>5</td>\n",
       "      <td>3</td>\n",
       "      <td>0</td>\n",
       "      <td>166.666667</td>\n",
       "    </tr>\n",
       "    <tr>\n",
       "      <th>5</th>\n",
       "      <td>Extras</td>\n",
       "      <td>17</td>\n",
       "      <td>4</td>\n",
       "      <td>0</td>\n",
       "      <td>425.000000</td>\n",
       "    </tr>\n",
       "    <tr>\n",
       "      <th>6</th>\n",
       "      <td>Total</td>\n",
       "      <td>222</td>\n",
       "      <td>124</td>\n",
       "      <td>3</td>\n",
       "      <td>179.032258</td>\n",
       "    </tr>\n",
       "  </tbody>\n",
       "</table>\n",
       "</div>"
      ],
      "text/plain": [
       "           Batsmen  Runs  Balls Faced  Out  Strike_Rate\n",
       "0       SC Ganguly    10           12    1    83.333333\n",
       "1      BB McCullum   158           73    0   216.438356\n",
       "2       RT Ponting    20           20    1   100.000000\n",
       "3        DJ Hussey    12           12    1   100.000000\n",
       "4  Mohammad Hafeez     5            3    0   166.666667\n",
       "5           Extras    17            4    0   425.000000\n",
       "6            Total   222          124    3   179.032258"
      ]
     },
     "execution_count": 83,
     "metadata": {},
     "output_type": "execute_result"
    }
   ],
   "source": [
    "curr_match[1].bat_scorecard()"
   ]
  },
  {
   "cell_type": "code",
   "execution_count": 101,
   "metadata": {
    "collapsed": false
   },
   "outputs": [],
   "source": [
    "output.to_csv('overs.csv')"
   ]
  },
  {
   "cell_type": "code",
   "execution_count": 99,
   "metadata": {
    "collapsed": false
   },
   "outputs": [
    {
     "data": {
      "text/plain": [
       "[('7.2', 66, 1),\n",
       " ('6.6', 65, 1),\n",
       " ('12.1', 117, 2),\n",
       " ('7.1', 66, 1),\n",
       " ('6.3', 63, 0),\n",
       " ('12.6', 120, 2),\n",
       " ('6.1', 60, 0),\n",
       " ('12.4', 118, 2),\n",
       " ('10.1', 97, 2),\n",
       " ('10.3', 99, 2),\n",
       " ('10.2', 98, 2),\n",
       " ('10.5', 99, 2),\n",
       " ('10.4', 99, 2),\n",
       " ('10.6', 103, 2),\n",
       " ('16.7', 156, 5),\n",
       " ('16.6', 154, 5),\n",
       " ('16.5', 154, 5),\n",
       " ('16.4', 153, 5),\n",
       " ('16.3', 152, 5),\n",
       " ('16.2', 148, 5),\n",
       " ('16.1', 148, 4),\n",
       " ('14.4', 139, 3),\n",
       " ('14.5', 139, 3),\n",
       " ('12.3', 117, 2),\n",
       " ('14.6', 140, 3),\n",
       " ('14.1', 128, 3),\n",
       " ('14.3', 135, 3),\n",
       " ('12.2', 117, 2),\n",
       " ('14.2', 129, 3),\n",
       " ('6.5', 64, 1),\n",
       " ('6.4', 63, 1),\n",
       " ('7.6', 75, 1),\n",
       " ('6.2', 61, 0),\n",
       " ('7.4', 73, 1),\n",
       " ('7.5', 74, 1),\n",
       " ('3.6', 27, 0),\n",
       " ('3.4', 23, 0),\n",
       " ('3.5', 27, 0),\n",
       " ('3.2', 22, 0),\n",
       " ('3.3', 23, 0),\n",
       " ('3.1', 21, 0),\n",
       " ('2.3', 12, 0),\n",
       " ('2.2', 12, 0),\n",
       " ('2.1', 12, 0),\n",
       " ('2.6', 21, 0),\n",
       " ('2.5', 17, 0),\n",
       " ('2.4', 13, 0),\n",
       " ('12.5', 119, 2),\n",
       " ('19.4', 201, 7),\n",
       " ('19.5', 202, 7),\n",
       " ('19.6', 208, 7),\n",
       " ('19.1', 188, 7),\n",
       " ('8.1', 76, 1),\n",
       " ('8.3', 81, 1),\n",
       " ('8.2', 77, 1),\n",
       " ('8.5', 87, 1),\n",
       " ('8.4', 83, 1),\n",
       " ('8.6', 88, 1),\n",
       " ('19.3', 200, 7),\n",
       " ('9.4', 97, 1),\n",
       " ('9.5', 97, 2),\n",
       " ('9.6', 97, 2),\n",
       " ('9.1', 92, 1),\n",
       " ('9.2', 96, 1),\n",
       " ('9.3', 96, 1),\n",
       " ('7.3', 72, 1),\n",
       " ('15.5', 147, 3),\n",
       " ('19.2', 194, 7),\n",
       " ('18.1', 169, 6),\n",
       " ('18.3', 174, 6),\n",
       " ('18.2', 170, 6),\n",
       " ('18.5', 179, 7),\n",
       " ('18.4', 174, 7),\n",
       " ('18.7', 184, 7),\n",
       " ('18.6', 183, 7),\n",
       " ('1.4', 9, 0),\n",
       " ('1.5', 11, 0),\n",
       " ('1.6', 11, 0),\n",
       " ('1.7', 12, 0),\n",
       " ('1.1', 8, 0),\n",
       " ('1.2', 8, 0),\n",
       " ('1.3', 9, 0),\n",
       " ('0.1', 1, 0),\n",
       " ('0.3', 2, 0),\n",
       " ('0.2', 2, 0),\n",
       " ('0.5', 3, 0),\n",
       " ('0.4', 3, 0),\n",
       " ('0.6', 7, 0),\n",
       " ('13.6', 127, 3),\n",
       " ('13.4', 126, 3),\n",
       " ('13.5', 127, 3),\n",
       " ('13.2', 125, 2),\n",
       " ('13.3', 125, 3),\n",
       " ('13.1', 121, 2),\n",
       " ('4.5', 45, 0),\n",
       " ('4.4', 41, 0),\n",
       " ('5.2', 48, 0),\n",
       " ('4.6', 46, 0),\n",
       " ('4.1', 33, 0),\n",
       " ('5.5', 52, 0),\n",
       " ('4.3', 40, 0),\n",
       " ('4.2', 34, 0),\n",
       " ('11.4', 115, 2),\n",
       " ('11.5', 115, 2),\n",
       " ('11.6', 116, 2),\n",
       " ('11.1', 104, 2),\n",
       " ('11.2', 108, 2),\n",
       " ('11.3', 114, 2),\n",
       " ('17.2', 158, 5),\n",
       " ('17.3', 158, 6),\n",
       " ('17.1', 157, 5),\n",
       " ('17.6', 164, 6),\n",
       " ('17.7', 168, 6),\n",
       " ('17.4', 158, 6),\n",
       " ('17.5', 164, 6),\n",
       " ('17.8', 168, 6),\n",
       " ('5.1', 47, 0),\n",
       " ('5.3', 52, 0),\n",
       " ('5.4', 52, 0),\n",
       " ('15.1', 144, 3),\n",
       " ('15.2', 145, 3),\n",
       " ('15.3', 145, 3),\n",
       " ('15.4', 146, 3),\n",
       " ('5.6', 53, 0),\n",
       " ('15.6', 147, 4),\n",
       " ('5.7', 59, 0)]"
      ]
     },
     "execution_count": 99,
     "metadata": {},
     "output_type": "execute_result"
    }
   ],
   "source": [
    "ball_by_ball"
   ]
  },
  {
   "cell_type": "code",
   "execution_count": 53,
   "metadata": {
    "collapsed": false
   },
   "outputs": [
    {
     "data": {
      "text/plain": [
       "{'bat': 0,\n",
       " 'batsman': 'SC Ganguly',\n",
       " 'bowler': 'Z Khan',\n",
       " 'fielders': '',\n",
       " 'kind': 'caught',\n",
       " 'non_striker': 'BB McCullum',\n",
       " 'player_out': 'SC Ganguly',\n",
       " 'runs': '',\n",
       " 'score': 0,\n",
       " 'wicket': True,\n",
       " 'wide': False}"
      ]
     },
     "execution_count": 53,
     "metadata": {},
     "output_type": "execute_result"
    }
   ],
   "source": [
    "a[1]['5.2']"
   ]
  },
  {
   "cell_type": "code",
   "execution_count": 55,
   "metadata": {
    "collapsed": false
   },
   "outputs": [
    {
     "name": "stdout",
     "output_type": "stream",
     "text": [
      "Help on Ball in module cricket object:\n",
      "\n",
      "class Ball(__builtin__.dict)\n",
      " |  Method resolution order:\n",
      " |      Ball\n",
      " |      __builtin__.dict\n",
      " |      __builtin__.object\n",
      " |  \n",
      " |  Methods defined here:\n",
      " |  \n",
      " |  __init__(self)\n",
      " |  \n",
      " |  ----------------------------------------------------------------------\n",
      " |  Data descriptors defined here:\n",
      " |  \n",
      " |  __dict__\n",
      " |      dictionary for instance variables (if defined)\n",
      " |  \n",
      " |  __weakref__\n",
      " |      list of weak references to the object (if defined)\n",
      " |  \n",
      " |  ----------------------------------------------------------------------\n",
      " |  Methods inherited from __builtin__.dict:\n",
      " |  \n",
      " |  __cmp__(...)\n",
      " |      x.__cmp__(y) <==> cmp(x,y)\n",
      " |  \n",
      " |  __contains__(...)\n",
      " |      D.__contains__(k) -> True if D has a key k, else False\n",
      " |  \n",
      " |  __delitem__(...)\n",
      " |      x.__delitem__(y) <==> del x[y]\n",
      " |  \n",
      " |  __eq__(...)\n",
      " |      x.__eq__(y) <==> x==y\n",
      " |  \n",
      " |  __ge__(...)\n",
      " |      x.__ge__(y) <==> x>=y\n",
      " |  \n",
      " |  __getattribute__(...)\n",
      " |      x.__getattribute__('name') <==> x.name\n",
      " |  \n",
      " |  __getitem__(...)\n",
      " |      x.__getitem__(y) <==> x[y]\n",
      " |  \n",
      " |  __gt__(...)\n",
      " |      x.__gt__(y) <==> x>y\n",
      " |  \n",
      " |  __iter__(...)\n",
      " |      x.__iter__() <==> iter(x)\n",
      " |  \n",
      " |  __le__(...)\n",
      " |      x.__le__(y) <==> x<=y\n",
      " |  \n",
      " |  __len__(...)\n",
      " |      x.__len__() <==> len(x)\n",
      " |  \n",
      " |  __lt__(...)\n",
      " |      x.__lt__(y) <==> x<y\n",
      " |  \n",
      " |  __ne__(...)\n",
      " |      x.__ne__(y) <==> x!=y\n",
      " |  \n",
      " |  __repr__(...)\n",
      " |      x.__repr__() <==> repr(x)\n",
      " |  \n",
      " |  __setitem__(...)\n",
      " |      x.__setitem__(i, y) <==> x[i]=y\n",
      " |  \n",
      " |  __sizeof__(...)\n",
      " |      D.__sizeof__() -> size of D in memory, in bytes\n",
      " |  \n",
      " |  clear(...)\n",
      " |      D.clear() -> None.  Remove all items from D.\n",
      " |  \n",
      " |  copy(...)\n",
      " |      D.copy() -> a shallow copy of D\n",
      " |  \n",
      " |  fromkeys(...)\n",
      " |      dict.fromkeys(S[,v]) -> New dict with keys from S and values equal to v.\n",
      " |      v defaults to None.\n",
      " |  \n",
      " |  get(...)\n",
      " |      D.get(k[,d]) -> D[k] if k in D, else d.  d defaults to None.\n",
      " |  \n",
      " |  has_key(...)\n",
      " |      D.has_key(k) -> True if D has a key k, else False\n",
      " |  \n",
      " |  items(...)\n",
      " |      D.items() -> list of D's (key, value) pairs, as 2-tuples\n",
      " |  \n",
      " |  iteritems(...)\n",
      " |      D.iteritems() -> an iterator over the (key, value) items of D\n",
      " |  \n",
      " |  iterkeys(...)\n",
      " |      D.iterkeys() -> an iterator over the keys of D\n",
      " |  \n",
      " |  itervalues(...)\n",
      " |      D.itervalues() -> an iterator over the values of D\n",
      " |  \n",
      " |  keys(...)\n",
      " |      D.keys() -> list of D's keys\n",
      " |  \n",
      " |  pop(...)\n",
      " |      D.pop(k[,d]) -> v, remove specified key and return the corresponding value.\n",
      " |      If key is not found, d is returned if given, otherwise KeyError is raised\n",
      " |  \n",
      " |  popitem(...)\n",
      " |      D.popitem() -> (k, v), remove and return some (key, value) pair as a\n",
      " |      2-tuple; but raise KeyError if D is empty.\n",
      " |  \n",
      " |  setdefault(...)\n",
      " |      D.setdefault(k[,d]) -> D.get(k,d), also set D[k]=d if k not in D\n",
      " |  \n",
      " |  update(...)\n",
      " |      D.update([E, ]**F) -> None.  Update D from dict/iterable E and F.\n",
      " |      If E present and has a .keys() method, does:     for k in E: D[k] = E[k]\n",
      " |      If E present and lacks .keys() method, does:     for (k, v) in E: D[k] = v\n",
      " |      In either case, this is followed by: for k in F: D[k] = F[k]\n",
      " |  \n",
      " |  values(...)\n",
      " |      D.values() -> list of D's values\n",
      " |  \n",
      " |  viewitems(...)\n",
      " |      D.viewitems() -> a set-like object providing a view on D's items\n",
      " |  \n",
      " |  viewkeys(...)\n",
      " |      D.viewkeys() -> a set-like object providing a view on D's keys\n",
      " |  \n",
      " |  viewvalues(...)\n",
      " |      D.viewvalues() -> an object providing a view on D's values\n",
      " |  \n",
      " |  ----------------------------------------------------------------------\n",
      " |  Data and other attributes inherited from __builtin__.dict:\n",
      " |  \n",
      " |  __hash__ = None\n",
      " |  \n",
      " |  __new__ = <built-in method __new__ of type object>\n",
      " |      T.__new__(S, ...) -> a new object with type S, a subtype of T\n",
      "\n"
     ]
    }
   ],
   "source": [
    "help(a[1]['5.2'])"
   ]
  },
  {
   "cell_type": "code",
   "execution_count": null,
   "metadata": {
    "collapsed": true
   },
   "outputs": [],
   "source": []
  }
 ],
 "metadata": {
  "kernelspec": {
   "display_name": "Python 2",
   "language": "python",
   "name": "python2"
  },
  "language_info": {
   "codemirror_mode": {
    "name": "ipython",
    "version": 2
   },
   "file_extension": ".py",
   "mimetype": "text/x-python",
   "name": "python",
   "nbconvert_exporter": "python",
   "pygments_lexer": "ipython2",
   "version": "2.7.13"
  }
 },
 "nbformat": 4,
 "nbformat_minor": 2
}
