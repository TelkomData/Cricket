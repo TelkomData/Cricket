{
 "cells": [
  {
   "cell_type": "code",
   "execution_count": 4,
   "metadata": {
    "collapsed": true
   },
   "outputs": [],
   "source": [
    "import pandas as pd"
   ]
  },
  {
   "cell_type": "code",
   "execution_count": null,
   "metadata": {
    "collapsed": true
   },
   "outputs": [],
   "source": [
    "class Ball(dict):\n",
    "    def __init__(self):\n",
    "        self['score'] = 0\n",
    "        self['bat'] = 0\n",
    "        self['wicket'] = None\n",
    "        self['w_nb'] = True"
   ]
  },
  {
   "cell_type": "code",
   "execution_count": null,
   "metadata": {
    "collapsed": true
   },
   "outputs": [],
   "source": [
    "class Innings(Ball):\n",
    "    \n",
    "    def __init__(self):\n",
    "        self.bat_order = []\n",
    "        \n",
    "    def balls(self):\n",
    "        return [b for b in self.values() if isinstance(b, Ball)]\n",
    "    \n",
    "    def runs(self):\n",
    "        return [b['score'] for b in self.balls()]\n",
    "    \n",
    "    def partnerships(self):\n",
    "        return []\n",
    "    \n",
    "    def bat_score(self, batsman):        \n",
    "        return sum(b['bat'] for b in self.balls() if (b['batsman'] == batsman))\n",
    "\n",
    "    def bat_balls_faced(self, batsman):        \n",
    "        return sum(1 for b in self.balls() if (b['batsman'] == batsman) & (b['w_nb']))\n",
    "    \n",
    "    def bat_scorecard(self):\n",
    "        score_board = []\n",
    "        for batsman in self.bat_order:\n",
    "            runs = self.bat_score(batsman)\n",
    "            balls = self.bat_balls_faced(batsman)\n",
    "            score_board.append((batsman, runs, balls))\n",
    "        \n",
    "        sb = pd.DataFrame(data=score_board, columns=['Batsmen', 'Runs', 'Balls Faced'])\n",
    "\n",
    "        total = ('Total', sum(self.runs()), len(self.balls()))\n",
    "        extra = ('Extras', total[1] - sb['Runs'].sum(), total[2] - sb['Balls Faced'].sum())\n",
    "        score_board.append(extra)\n",
    "        score_board.append(total)\n",
    "\n",
    "        return pd.DataFrame(data=score_board, columns=['Batsmen', 'Runs', 'Balls Faced'])       \n",
    " "
   ]
  },
  {
   "cell_type": "code",
   "execution_count": null,
   "metadata": {
    "collapsed": true
   },
   "outputs": [],
   "source": [
    "class Match(dict):    \n",
    "    def __init__(self):\n",
    "        self.team = {}\n",
    "        self.team[1] = {}\n",
    "        self.team[2] = {}\n",
    "        self.team[1]['players'] = []\n",
    "        self.team[1]['players'] = []\n",
    "        \n",
    "    def winner(self):\n",
    "        pass       "
   ]
  },
  {
   "cell_type": "code",
   "execution_count": 68,
   "metadata": {
    "collapsed": false
   },
   "outputs": [],
   "source": [
    "game = Match()\n",
    "f = open('IPL/335982.yaml', 'r')\n",
    "\n",
    "for line in f.readlines():\n",
    "    tabs = [a.strip('\\n') for a in line.split('  ')]\n",
    "    len_tabs = len(tabs)\n",
    "    try:\n",
    "        var, out = [a.strip() for a in tabs[-1].split(':')]\n",
    "    except:\n",
    "        var = None\n",
    "        out = [a.strip() for a in tabs[-1].split('- ')]\n",
    "   \n",
    "    if len_tabs == 2:\n",
    "        game[var] = out\n",
    "        if (var == '- 1st innings'): \n",
    "            innings = game[1] = Innings()\n",
    "        if (var == '- 2nd innings'):\n",
    "            innings = game[2] = Innings()\n",
    "            \n",
    "    if len_tabs == 5:\n",
    "        current_ball = innings[var] = Ball()\n",
    "\n",
    "    if len_tabs == 7:\n",
    "        if var == 'wicket':\n",
    "            current_ball['wicket'] = True\n",
    "        else:\n",
    "            current_ball[var] = out\n",
    "        if var == 'batsman':\n",
    "            if out not in innings.bat_order:\n",
    "                innings.bat_order.append(out)       \n",
    "        \n",
    "    if len_tabs == 8:\n",
    "        if var == 'total':\n",
    "            current_ball['score'] = int(out)\n",
    "        if var == 'batsman':\n",
    "            current_ball['bat'] = int(out)\n",
    "        if (var == 'wides') | (var == 'no-ball'):\n",
    "            current_ball['w_nb'] = False\n",
    "        \n",
    "            "
   ]
  },
  {
   "cell_type": "code",
   "execution_count": 69,
   "metadata": {
    "collapsed": false
   },
   "outputs": [
    {
     "data": {
      "text/plain": [
       "158"
      ]
     },
     "execution_count": 69,
     "metadata": {},
     "output_type": "execute_result"
    }
   ],
   "source": [
    "game[1].bat_score('BB McCullum')"
   ]
  },
  {
   "cell_type": "code",
   "execution_count": 72,
   "metadata": {
    "collapsed": false
   },
   "outputs": [
    {
     "data": {
      "text/html": [
       "<div>\n",
       "<table border=\"1\" class=\"dataframe\">\n",
       "  <thead>\n",
       "    <tr style=\"text-align: right;\">\n",
       "      <th></th>\n",
       "      <th>Batsmen</th>\n",
       "      <th>Runs</th>\n",
       "      <th>Balls Faced</th>\n",
       "    </tr>\n",
       "  </thead>\n",
       "  <tbody>\n",
       "    <tr>\n",
       "      <th>0</th>\n",
       "      <td>SC Ganguly</td>\n",
       "      <td>10</td>\n",
       "      <td>12</td>\n",
       "    </tr>\n",
       "    <tr>\n",
       "      <th>1</th>\n",
       "      <td>BB McCullum</td>\n",
       "      <td>158</td>\n",
       "      <td>73</td>\n",
       "    </tr>\n",
       "    <tr>\n",
       "      <th>2</th>\n",
       "      <td>RT Ponting</td>\n",
       "      <td>20</td>\n",
       "      <td>20</td>\n",
       "    </tr>\n",
       "    <tr>\n",
       "      <th>3</th>\n",
       "      <td>DJ Hussey</td>\n",
       "      <td>12</td>\n",
       "      <td>12</td>\n",
       "    </tr>\n",
       "    <tr>\n",
       "      <th>4</th>\n",
       "      <td>Mohammad Hafeez</td>\n",
       "      <td>5</td>\n",
       "      <td>3</td>\n",
       "    </tr>\n",
       "    <tr>\n",
       "      <th>5</th>\n",
       "      <td>Extras</td>\n",
       "      <td>17</td>\n",
       "      <td>4</td>\n",
       "    </tr>\n",
       "    <tr>\n",
       "      <th>6</th>\n",
       "      <td>Total</td>\n",
       "      <td>222</td>\n",
       "      <td>124</td>\n",
       "    </tr>\n",
       "  </tbody>\n",
       "</table>\n",
       "</div>"
      ],
      "text/plain": [
       "           Batsmen  Runs  Balls Faced\n",
       "0       SC Ganguly    10           12\n",
       "1      BB McCullum   158           73\n",
       "2       RT Ponting    20           20\n",
       "3        DJ Hussey    12           12\n",
       "4  Mohammad Hafeez     5            3\n",
       "5           Extras    17            4\n",
       "6            Total   222          124"
      ]
     },
     "execution_count": 72,
     "metadata": {},
     "output_type": "execute_result"
    }
   ],
   "source": [
    "game[1].bat_scorecard()"
   ]
  },
  {
   "cell_type": "code",
   "execution_count": 35,
   "metadata": {
    "collapsed": false
   },
   "outputs": [
    {
     "ename": "NameError",
     "evalue": "name 'sb' is not defined",
     "output_type": "error",
     "traceback": [
      "\u001b[0;31m---------------------------------------------------------------------------\u001b[0m",
      "\u001b[0;31mNameError\u001b[0m                                 Traceback (most recent call last)",
      "\u001b[0;32m<ipython-input-35-864f8ab9f984>\u001b[0m in \u001b[0;36m<module>\u001b[0;34m()\u001b[0m\n\u001b[0;32m----> 1\u001b[0;31m \u001b[0msb\u001b[0m\u001b[1;33m\u001b[0m\u001b[0m\n\u001b[0m",
      "\u001b[0;31mNameError\u001b[0m: name 'sb' is not defined"
     ]
    }
   ],
   "source": [
    "sb"
   ]
  },
  {
   "cell_type": "code",
   "execution_count": null,
   "metadata": {
    "collapsed": true
   },
   "outputs": [],
   "source": []
  }
 ],
 "metadata": {
  "kernelspec": {
   "display_name": "Python 2",
   "language": "python",
   "name": "python2"
  }
 },
 "nbformat": 4,
 "nbformat_minor": 2
}
